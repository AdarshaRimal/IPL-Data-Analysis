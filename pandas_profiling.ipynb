{
 "cells": [
  {
   "cell_type": "code",
   "execution_count": 1,
   "id": "c1068173-207f-480d-aff1-45dc13ce0525",
   "metadata": {},
   "outputs": [],
   "source": [
    "import pandas as pd"
   ]
  },
  {
   "cell_type": "code",
   "execution_count": 2,
   "id": "263cfe54-0289-453b-b5f3-58de1f09d618",
   "metadata": {},
   "outputs": [
    {
     "name": "stdout",
     "output_type": "stream",
     "text": [
      "Collecting ydata_profiling\n",
      "  Downloading ydata_profiling-4.15.0-py2.py3-none-any.whl.metadata (22 kB)\n",
      "Requirement already satisfied: scipy<1.16,>=1.4.1 in c:\\anaconda3\\lib\\site-packages (from ydata_profiling) (1.13.1)\n",
      "Requirement already satisfied: pandas!=1.4.0,<3.0,>1.1 in c:\\anaconda3\\lib\\site-packages (from ydata_profiling) (2.2.2)\n",
      "Requirement already satisfied: matplotlib<=3.10,>=3.5 in c:\\anaconda3\\lib\\site-packages (from ydata_profiling) (3.8.4)\n",
      "Requirement already satisfied: pydantic>=2 in c:\\anaconda3\\lib\\site-packages (from ydata_profiling) (2.10.6)\n",
      "Requirement already satisfied: PyYAML<6.1,>=5.0.0 in c:\\anaconda3\\lib\\site-packages (from ydata_profiling) (6.0.1)\n",
      "Requirement already satisfied: jinja2<3.2,>=2.11.1 in c:\\anaconda3\\lib\\site-packages (from ydata_profiling) (3.1.4)\n",
      "Collecting visions<0.8.2,>=0.7.5 (from visions[type_image_path]<0.8.2,>=0.7.5->ydata_profiling)\n",
      "  Downloading visions-0.8.1-py3-none-any.whl.metadata (11 kB)\n",
      "Requirement already satisfied: numpy<2.2,>=1.16.0 in c:\\anaconda3\\lib\\site-packages (from ydata_profiling) (1.26.4)\n",
      "Requirement already satisfied: htmlmin==0.1.12 in c:\\anaconda3\\lib\\site-packages (from ydata_profiling) (0.1.12)\n",
      "Requirement already satisfied: phik<0.13,>=0.11.1 in c:\\anaconda3\\lib\\site-packages (from ydata_profiling) (0.12.4)\n",
      "Requirement already satisfied: requests<3,>=2.24.0 in c:\\anaconda3\\lib\\site-packages (from ydata_profiling) (2.32.2)\n",
      "Requirement already satisfied: tqdm<5,>=4.48.2 in c:\\anaconda3\\lib\\site-packages (from ydata_profiling) (4.66.4)\n",
      "Requirement already satisfied: seaborn<0.14,>=0.10.1 in c:\\anaconda3\\lib\\site-packages (from ydata_profiling) (0.13.2)\n",
      "Collecting multimethod<2,>=1.4 (from ydata_profiling)\n",
      "  Downloading multimethod-1.12-py3-none-any.whl.metadata (9.6 kB)\n",
      "Requirement already satisfied: statsmodels<1,>=0.13.2 in c:\\anaconda3\\lib\\site-packages (from ydata_profiling) (0.14.2)\n",
      "Collecting typeguard<5,>=3 (from ydata_profiling)\n",
      "  Downloading typeguard-4.4.2-py3-none-any.whl.metadata (3.8 kB)\n",
      "Collecting imagehash==4.3.1 (from ydata_profiling)\n",
      "  Downloading ImageHash-4.3.1-py2.py3-none-any.whl.metadata (8.0 kB)\n",
      "Collecting wordcloud>=1.9.3 (from ydata_profiling)\n",
      "  Downloading wordcloud-1.9.4-cp312-cp312-win_amd64.whl.metadata (3.5 kB)\n",
      "Collecting dacite>=1.8 (from ydata_profiling)\n",
      "  Downloading dacite-1.9.2-py3-none-any.whl.metadata (17 kB)\n",
      "Requirement already satisfied: numba<=0.61,>=0.56.0 in c:\\anaconda3\\lib\\site-packages (from ydata_profiling) (0.59.1)\n",
      "Requirement already satisfied: PyWavelets in c:\\anaconda3\\lib\\site-packages (from imagehash==4.3.1->ydata_profiling) (1.5.0)\n",
      "Requirement already satisfied: pillow in c:\\anaconda3\\lib\\site-packages (from imagehash==4.3.1->ydata_profiling) (10.3.0)\n",
      "Requirement already satisfied: MarkupSafe>=2.0 in c:\\anaconda3\\lib\\site-packages (from jinja2<3.2,>=2.11.1->ydata_profiling) (2.1.3)\n",
      "Requirement already satisfied: contourpy>=1.0.1 in c:\\anaconda3\\lib\\site-packages (from matplotlib<=3.10,>=3.5->ydata_profiling) (1.2.0)\n",
      "Requirement already satisfied: cycler>=0.10 in c:\\anaconda3\\lib\\site-packages (from matplotlib<=3.10,>=3.5->ydata_profiling) (0.11.0)\n",
      "Requirement already satisfied: fonttools>=4.22.0 in c:\\anaconda3\\lib\\site-packages (from matplotlib<=3.10,>=3.5->ydata_profiling) (4.51.0)\n",
      "Requirement already satisfied: kiwisolver>=1.3.1 in c:\\anaconda3\\lib\\site-packages (from matplotlib<=3.10,>=3.5->ydata_profiling) (1.4.4)\n",
      "Requirement already satisfied: packaging>=20.0 in c:\\anaconda3\\lib\\site-packages (from matplotlib<=3.10,>=3.5->ydata_profiling) (23.2)\n",
      "Requirement already satisfied: pyparsing>=2.3.1 in c:\\anaconda3\\lib\\site-packages (from matplotlib<=3.10,>=3.5->ydata_profiling) (3.0.9)\n",
      "Requirement already satisfied: python-dateutil>=2.7 in c:\\anaconda3\\lib\\site-packages (from matplotlib<=3.10,>=3.5->ydata_profiling) (2.9.0.post0)\n",
      "Requirement already satisfied: llvmlite<0.43,>=0.42.0dev0 in c:\\anaconda3\\lib\\site-packages (from numba<=0.61,>=0.56.0->ydata_profiling) (0.42.0)\n",
      "Requirement already satisfied: pytz>=2020.1 in c:\\anaconda3\\lib\\site-packages (from pandas!=1.4.0,<3.0,>1.1->ydata_profiling) (2024.1)\n",
      "Requirement already satisfied: tzdata>=2022.7 in c:\\anaconda3\\lib\\site-packages (from pandas!=1.4.0,<3.0,>1.1->ydata_profiling) (2023.3)\n",
      "Requirement already satisfied: joblib>=0.14.1 in c:\\anaconda3\\lib\\site-packages (from phik<0.13,>=0.11.1->ydata_profiling) (1.1.1)\n",
      "Requirement already satisfied: annotated-types>=0.6.0 in c:\\anaconda3\\lib\\site-packages (from pydantic>=2->ydata_profiling) (0.6.0)\n",
      "Requirement already satisfied: pydantic-core==2.27.2 in c:\\anaconda3\\lib\\site-packages (from pydantic>=2->ydata_profiling) (2.27.2)\n",
      "Requirement already satisfied: typing-extensions>=4.12.2 in c:\\anaconda3\\lib\\site-packages (from pydantic>=2->ydata_profiling) (4.12.2)\n",
      "Requirement already satisfied: charset-normalizer<4,>=2 in c:\\anaconda3\\lib\\site-packages (from requests<3,>=2.24.0->ydata_profiling) (2.0.4)\n",
      "Requirement already satisfied: idna<4,>=2.5 in c:\\anaconda3\\lib\\site-packages (from requests<3,>=2.24.0->ydata_profiling) (3.7)\n",
      "Requirement already satisfied: urllib3<3,>=1.21.1 in c:\\anaconda3\\lib\\site-packages (from requests<3,>=2.24.0->ydata_profiling) (2.2.2)\n",
      "Requirement already satisfied: certifi>=2017.4.17 in c:\\anaconda3\\lib\\site-packages (from requests<3,>=2.24.0->ydata_profiling) (2024.6.2)\n",
      "Requirement already satisfied: patsy>=0.5.6 in c:\\anaconda3\\lib\\site-packages (from statsmodels<1,>=0.13.2->ydata_profiling) (0.5.6)\n",
      "Requirement already satisfied: colorama in c:\\anaconda3\\lib\\site-packages (from tqdm<5,>=4.48.2->ydata_profiling) (0.4.6)\n",
      "Requirement already satisfied: attrs>=19.3.0 in c:\\anaconda3\\lib\\site-packages (from visions<0.8.2,>=0.7.5->visions[type_image_path]<0.8.2,>=0.7.5->ydata_profiling) (24.2.0)\n",
      "Requirement already satisfied: networkx>=2.4 in c:\\anaconda3\\lib\\site-packages (from visions<0.8.2,>=0.7.5->visions[type_image_path]<0.8.2,>=0.7.5->ydata_profiling) (3.2.1)\n",
      "Collecting puremagic (from visions<0.8.2,>=0.7.5->visions[type_image_path]<0.8.2,>=0.7.5->ydata_profiling)\n",
      "  Downloading puremagic-1.28-py3-none-any.whl.metadata (5.8 kB)\n",
      "Requirement already satisfied: six in c:\\anaconda3\\lib\\site-packages (from patsy>=0.5.6->statsmodels<1,>=0.13.2->ydata_profiling) (1.16.0)\n",
      "Downloading ydata_profiling-4.15.0-py2.py3-none-any.whl (395 kB)\n",
      "   ---------------------------------------- 0.0/395.7 kB ? eta -:--:--\n",
      "   - -------------------------------------- 10.2/395.7 kB ? eta -:--:--\n",
      "   ---- ---------------------------------- 41.0/395.7 kB 495.5 kB/s eta 0:00:01\n",
      "   ---- ---------------------------------- 41.0/395.7 kB 495.5 kB/s eta 0:00:01\n",
      "   ---- ---------------------------------- 41.0/395.7 kB 495.5 kB/s eta 0:00:01\n",
      "   ------ -------------------------------- 61.4/395.7 kB 273.8 kB/s eta 0:00:02\n",
      "   ---------- --------------------------- 112.6/395.7 kB 409.6 kB/s eta 0:00:01\n",
      "   ----------- -------------------------- 122.9/395.7 kB 425.1 kB/s eta 0:00:01\n",
      "   ----------- -------------------------- 122.9/395.7 kB 425.1 kB/s eta 0:00:01\n",
      "   ---------------- --------------------- 174.1/395.7 kB 420.1 kB/s eta 0:00:01\n",
      "   --------------------- ---------------- 225.3/395.7 kB 509.6 kB/s eta 0:00:01\n",
      "   ------------------------ ------------- 256.0/395.7 kB 542.5 kB/s eta 0:00:01\n",
      "   ------------------------ ------------- 256.0/395.7 kB 542.5 kB/s eta 0:00:01\n",
      "   ------------------------------ ------- 317.4/395.7 kB 531.5 kB/s eta 0:00:01\n",
      "   -------------------------------------- 395.7/395.7 kB 632.9 kB/s eta 0:00:00\n",
      "Downloading ImageHash-4.3.1-py2.py3-none-any.whl (296 kB)\n",
      "   ---------------------------------------- 0.0/296.5 kB ? eta -:--:--\n",
      "   ----------------------- ---------------- 174.1/296.5 kB 3.5 MB/s eta 0:00:01\n",
      "   ---------------------------------------- 296.5/296.5 kB 3.7 MB/s eta 0:00:00\n",
      "Downloading dacite-1.9.2-py3-none-any.whl (16 kB)\n",
      "Downloading multimethod-1.12-py3-none-any.whl (10 kB)\n",
      "Downloading typeguard-4.4.2-py3-none-any.whl (35 kB)\n",
      "Downloading visions-0.8.1-py3-none-any.whl (105 kB)\n",
      "   ---------------------------------------- 0.0/105.4 kB ? eta -:--:--\n",
      "   ---------------------------------------- 105.4/105.4 kB 5.9 MB/s eta 0:00:00\n",
      "Downloading wordcloud-1.9.4-cp312-cp312-win_amd64.whl (301 kB)\n",
      "   ---------------------------------------- 0.0/301.2 kB ? eta -:--:--\n",
      "   ------------------------------------ --- 276.5/301.2 kB 8.6 MB/s eta 0:00:01\n",
      "   ---------------------------------------- 301.2/301.2 kB 6.2 MB/s eta 0:00:00\n",
      "Downloading puremagic-1.28-py3-none-any.whl (43 kB)\n",
      "   ---------------------------------------- 0.0/43.2 kB ? eta -:--:--\n",
      "   ---------------------------------------- 43.2/43.2 kB ? eta 0:00:00\n",
      "Installing collected packages: puremagic, typeguard, multimethod, dacite, imagehash, wordcloud, visions, ydata_profiling\n",
      "  Attempting uninstall: multimethod\n",
      "    Found existing installation: multimethod 2.0\n",
      "    Uninstalling multimethod-2.0:\n",
      "      Successfully uninstalled multimethod-2.0\n",
      "  Attempting uninstall: imagehash\n",
      "    Found existing installation: ImageHash 4.3.2\n",
      "    Uninstalling ImageHash-4.3.2:\n",
      "      Successfully uninstalled ImageHash-4.3.2\n",
      "  Attempting uninstall: visions\n",
      "    Found existing installation: visions 0.7.4\n",
      "    Uninstalling visions-0.7.4:\n",
      "      Successfully uninstalled visions-0.7.4\n",
      "Successfully installed dacite-1.9.2 imagehash-4.3.1 multimethod-1.12 puremagic-1.28 typeguard-4.4.2 visions-0.8.1 wordcloud-1.9.4 ydata_profiling-4.15.0\n"
     ]
    },
    {
     "name": "stderr",
     "output_type": "stream",
     "text": [
      "ERROR: pip's dependency resolver does not currently take into account all the packages that are installed. This behaviour is the source of the following dependency conflicts.\n",
      "pandas-profiling 3.2.0 requires visions[type_image_path]==0.7.4, but you have visions 0.8.1 which is incompatible.\n"
     ]
    }
   ],
   "source": [
    "!pip install ydata_profiling"
   ]
  },
  {
   "cell_type": "code",
   "execution_count": 3,
   "id": "cbe6df56-bda0-4b6e-bf0e-8ab0877eae80",
   "metadata": {},
   "outputs": [],
   "source": [
    "matches = pd.read_csv('matches.csv')\n",
    "deleveries = pd.read_csv('deliveries.csv')"
   ]
  },
  {
   "cell_type": "code",
   "execution_count": 4,
   "id": "6ee682cb-b1fa-45e1-ba46-47a4adf5461a",
   "metadata": {},
   "outputs": [
    {
     "data": {
      "text/html": [
       "\n",
       "            <div>\n",
       "                <ins><a href=\"ttps://ydata.ai/register\">Upgrade to ydata-sdk</a></ins>\n",
       "                <p>\n",
       "                    Improve your data and profiling with ydata-sdk, featuring data quality scoring, redundancy detection, outlier identification, text validation, and synthetic data generation.\n",
       "                </p>\n",
       "            </div>\n",
       "            "
      ],
      "text/plain": [
       "<IPython.core.display.HTML object>"
      ]
     },
     "metadata": {},
     "output_type": "display_data"
    }
   ],
   "source": [
    "from ydata_profiling import ProfileReport"
   ]
  },
  {
   "cell_type": "code",
   "execution_count": 5,
   "id": "3f0cf9f2-0e45-46ae-81d3-94ec6bd289fa",
   "metadata": {},
   "outputs": [
    {
     "data": {
      "application/vnd.jupyter.widget-view+json": {
       "model_id": "9d326f2c0d5e412e9a9713c005d152ad",
       "version_major": 2,
       "version_minor": 0
      },
      "text/plain": [
       "Summarize dataset:   0%|          | 0/5 [00:00<?, ?it/s]"
      ]
     },
     "metadata": {},
     "output_type": "display_data"
    },
    {
     "name": "stderr",
     "output_type": "stream",
     "text": [
      "\n",
      "  0%|                                                                                           | 0/20 [00:00<?, ?it/s]\u001b[A\n",
      " 10%|████████▎                                                                          | 2/20 [00:00<00:01, 15.63it/s]\u001b[A\n",
      "100%|██████████████████████████████████████████████████████████████████████████████████| 20/20 [00:00<00:00, 52.45it/s]\u001b[A\n"
     ]
    },
    {
     "data": {
      "application/vnd.jupyter.widget-view+json": {
       "model_id": "a2415505accf4fd3a5b8ca83c456df81",
       "version_major": 2,
       "version_minor": 0
      },
      "text/plain": [
       "Generate report structure:   0%|          | 0/1 [00:00<?, ?it/s]"
      ]
     },
     "metadata": {},
     "output_type": "display_data"
    },
    {
     "data": {
      "application/vnd.jupyter.widget-view+json": {
       "model_id": "79c5201a6909488495fc0f91aec64ab3",
       "version_major": 2,
       "version_minor": 0
      },
      "text/plain": [
       "Render HTML:   0%|          | 0/1 [00:00<?, ?it/s]"
      ]
     },
     "metadata": {},
     "output_type": "display_data"
    },
    {
     "data": {
      "application/vnd.jupyter.widget-view+json": {
       "model_id": "3cdccb6e267c42d68ec2da15dc717ade",
       "version_major": 2,
       "version_minor": 0
      },
      "text/plain": [
       "Export report to file:   0%|          | 0/1 [00:00<?, ?it/s]"
      ]
     },
     "metadata": {},
     "output_type": "display_data"
    }
   ],
   "source": [
    "match_prof = ProfileReport(matches)\n",
    "match_prof.to_file(output_file='matches.html')"
   ]
  },
  {
   "cell_type": "code",
   "execution_count": 6,
   "id": "bd3cd354-7e81-47ce-8464-a7f0165e1274",
   "metadata": {},
   "outputs": [
    {
     "name": "stdout",
     "output_type": "stream",
     "text": [
      "Collecting visions==0.7.4 (from visions[type_image_path]==0.7.4)\n",
      "  Using cached visions-0.7.4-py3-none-any.whl.metadata (5.9 kB)\n",
      "Requirement already satisfied: numpy in c:\\anaconda3\\lib\\site-packages (from visions==0.7.4->visions[type_image_path]==0.7.4) (1.26.4)\n",
      "Requirement already satisfied: pandas>=0.25.3 in c:\\anaconda3\\lib\\site-packages (from visions==0.7.4->visions[type_image_path]==0.7.4) (2.2.2)\n",
      "Requirement already satisfied: attrs>=19.3.0 in c:\\anaconda3\\lib\\site-packages (from visions==0.7.4->visions[type_image_path]==0.7.4) (24.2.0)\n",
      "Requirement already satisfied: networkx>=2.4 in c:\\anaconda3\\lib\\site-packages (from visions==0.7.4->visions[type_image_path]==0.7.4) (3.2.1)\n",
      "Requirement already satisfied: tangled-up-in-unicode>=0.0.4 in c:\\anaconda3\\lib\\site-packages (from visions==0.7.4->visions[type_image_path]==0.7.4) (0.2.0)\n",
      "Requirement already satisfied: multimethod>=1.4 in c:\\anaconda3\\lib\\site-packages (from visions==0.7.4->visions[type_image_path]==0.7.4) (1.12)\n",
      "Requirement already satisfied: imagehash in c:\\anaconda3\\lib\\site-packages (from visions[type_image_path]==0.7.4) (4.3.1)\n",
      "Requirement already satisfied: Pillow in c:\\anaconda3\\lib\\site-packages (from visions[type_image_path]==0.7.4) (10.3.0)\n",
      "Requirement already satisfied: python-dateutil>=2.8.2 in c:\\anaconda3\\lib\\site-packages (from pandas>=0.25.3->visions==0.7.4->visions[type_image_path]==0.7.4) (2.9.0.post0)\n",
      "Requirement already satisfied: pytz>=2020.1 in c:\\anaconda3\\lib\\site-packages (from pandas>=0.25.3->visions==0.7.4->visions[type_image_path]==0.7.4) (2024.1)\n",
      "Requirement already satisfied: tzdata>=2022.7 in c:\\anaconda3\\lib\\site-packages (from pandas>=0.25.3->visions==0.7.4->visions[type_image_path]==0.7.4) (2023.3)\n",
      "Requirement already satisfied: PyWavelets in c:\\anaconda3\\lib\\site-packages (from imagehash->visions[type_image_path]==0.7.4) (1.5.0)\n",
      "Requirement already satisfied: scipy in c:\\anaconda3\\lib\\site-packages (from imagehash->visions[type_image_path]==0.7.4) (1.13.1)\n",
      "Requirement already satisfied: six>=1.5 in c:\\anaconda3\\lib\\site-packages (from python-dateutil>=2.8.2->pandas>=0.25.3->visions==0.7.4->visions[type_image_path]==0.7.4) (1.16.0)\n",
      "Using cached visions-0.7.4-py3-none-any.whl (102 kB)\n",
      "Installing collected packages: visions\n",
      "  Attempting uninstall: visions\n",
      "    Found existing installation: visions 0.8.1\n",
      "    Uninstalling visions-0.8.1:\n",
      "      Successfully uninstalled visions-0.8.1\n",
      "Successfully installed visions-0.7.4\n"
     ]
    },
    {
     "name": "stderr",
     "output_type": "stream",
     "text": [
      "ERROR: pip's dependency resolver does not currently take into account all the packages that are installed. This behaviour is the source of the following dependency conflicts.\n",
      "ydata-profiling 4.15.0 requires visions[type_image_path]<0.8.2,>=0.7.5, but you have visions 0.7.4 which is incompatible.\n"
     ]
    }
   ],
   "source": [
    "!pip install visions[type_image_path]==0.7.4"
   ]
  },
  {
   "cell_type": "code",
   "execution_count": 7,
   "id": "269e4f3e-04bc-403e-b9fe-9a15fb84efbc",
   "metadata": {},
   "outputs": [
    {
     "data": {
      "application/vnd.jupyter.widget-view+json": {
       "model_id": "787c30ea4f6b4170a3cc19be896dcaed",
       "version_major": 2,
       "version_minor": 0
      },
      "text/plain": [
       "Summarize dataset:   0%|          | 0/5 [00:00<?, ?it/s]"
      ]
     },
     "metadata": {},
     "output_type": "display_data"
    },
    {
     "name": "stderr",
     "output_type": "stream",
     "text": [
      "\n",
      "  0%|                                                                                           | 0/20 [00:00<?, ?it/s]\u001b[A\n",
      " 10%|████████▎                                                                          | 2/20 [00:00<00:01, 11.37it/s]\u001b[A\n",
      "100%|██████████████████████████████████████████████████████████████████████████████████| 20/20 [00:00<00:00, 38.65it/s]\u001b[A\n"
     ]
    },
    {
     "data": {
      "application/vnd.jupyter.widget-view+json": {
       "model_id": "848ae739f9b049c39d15bf53171a9fa9",
       "version_major": 2,
       "version_minor": 0
      },
      "text/plain": [
       "Generate report structure:   0%|          | 0/1 [00:00<?, ?it/s]"
      ]
     },
     "metadata": {},
     "output_type": "display_data"
    },
    {
     "data": {
      "application/vnd.jupyter.widget-view+json": {
       "model_id": "e886d1279800498e9996a9459390cbfe",
       "version_major": 2,
       "version_minor": 0
      },
      "text/plain": [
       "Render HTML:   0%|          | 0/1 [00:00<?, ?it/s]"
      ]
     },
     "metadata": {},
     "output_type": "display_data"
    },
    {
     "data": {
      "application/vnd.jupyter.widget-view+json": {
       "model_id": "26a53d70e50a402f8b43bcc61594e1e6",
       "version_major": 2,
       "version_minor": 0
      },
      "text/plain": [
       "Export report to file:   0%|          | 0/1 [00:00<?, ?it/s]"
      ]
     },
     "metadata": {},
     "output_type": "display_data"
    }
   ],
   "source": [
    "delevery_prof = ProfileReport(matches)\n",
    "delevery_prof.to_file(output_file='delevery.html')"
   ]
  },
  {
   "cell_type": "code",
   "execution_count": null,
   "id": "f63e45b9-0b21-46f6-a14a-cf374b424c20",
   "metadata": {},
   "outputs": [],
   "source": []
  }
 ],
 "metadata": {
  "kernelspec": {
   "display_name": "Python 3 (ipykernel)",
   "language": "python",
   "name": "python3"
  },
  "language_info": {
   "codemirror_mode": {
    "name": "ipython",
    "version": 3
   },
   "file_extension": ".py",
   "mimetype": "text/x-python",
   "name": "python",
   "nbconvert_exporter": "python",
   "pygments_lexer": "ipython3",
   "version": "3.12.4"
  }
 },
 "nbformat": 4,
 "nbformat_minor": 5
}
